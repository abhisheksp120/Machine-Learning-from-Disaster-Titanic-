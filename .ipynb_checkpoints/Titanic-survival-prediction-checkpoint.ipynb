{
 "cells": [
  {
   "cell_type": "code",
   "execution_count": 2,
   "metadata": {},
   "outputs": [],
   "source": [
    "#Importing pandas to read the testing and training data\n",
    "import pandas as pd\n",
    "\n",
    "#Importing RandomForest Model\n",
    "from sklearn.ensemble import RandomForestClassifier\n",
    "\n",
    "#Reading Training data using pandas\n",
    "train_data = pd.read_csv('train.csv')\n",
    "\n",
    "#Creating target value to predicted(Survived)\n",
    "y = train_data[\"Survived\"]\n",
    "\n",
    "#Reading Testing data to Validate the trained data\n",
    "test_data = pd.read_csv('test.csv')\n",
    "\n",
    "#Replacing Null values in column of Age for testdata and traindata\n",
    "train_data[\"Age\"].fillna( method ='ffill', inplace = True) \n",
    "\n",
    "test_data[\"Age\"].fillna( method ='ffill', inplace = True) \n",
    "\n",
    "#Features which will be used to predict the target value\n",
    "features = [\"Pclass\", \"Sex\", \"SibSp\", \"Parch\", \"Age\", \"Embarked\"]\n",
    "\n",
    "X = pd.get_dummies(train_data[features])\n",
    "\n",
    "X_test = pd.get_dummies(test_data[features])\n",
    "\n",
    "#Using RandomForest to predict \n",
    "model = RandomForestClassifier(n_estimators=100, max_depth=5, random_state=1)\n",
    "\n",
    "#Capturing data from the provided data\n",
    "model.fit(X, y)\n",
    "\n",
    "#Predicting values for the testing data\n",
    "predictions = model.predict(X_test)\n",
    "\n",
    "#Creating output with two columns PassengerId and Survived value \n",
    "output = pd.DataFrame({'PassengerId': test_data.PassengerId, 'Survived': predictions})\n",
    "\n",
    "#Storing the output in Output.csv file\n",
    "output.to_csv('Output.csv', index=False)"
   ]
  },
  {
   "cell_type": "code",
   "execution_count": null,
   "metadata": {},
   "outputs": [],
   "source": []
  }
 ],
 "metadata": {
  "kernelspec": {
   "display_name": "Python 3",
   "language": "python",
   "name": "python3"
  },
  "language_info": {
   "codemirror_mode": {
    "name": "ipython",
    "version": 3
   },
   "file_extension": ".py",
   "mimetype": "text/x-python",
   "name": "python",
   "nbconvert_exporter": "python",
   "pygments_lexer": "ipython3",
   "version": "3.8.5"
  }
 },
 "nbformat": 4,
 "nbformat_minor": 4
}
